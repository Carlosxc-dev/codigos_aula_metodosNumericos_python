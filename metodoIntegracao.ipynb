{
 "cells": [
  {
   "cell_type": "code",
   "execution_count": 7,
   "metadata": {},
   "outputs": [],
   "source": [
    "#função -x^2 + 3x^3 - 7x dx\n",
    "def f(x):\n",
    "    return -x**2 + 3 * x**3 - 7 * x"
   ]
  },
  {
   "cell_type": "code",
   "execution_count": 20,
   "metadata": {},
   "outputs": [],
   "source": [
    "def regra_trapezio(a, b, n):\n",
    "    #definindo a altura de cada trapézio\n",
    "    h = (b - a) / n\n",
    "    x = a\n",
    "    \n",
    "    integral = (f(a) + f(b)) / 2\n",
    "    \n",
    "    for _ in range(1, n):\n",
    "        #incrementado a variável e pegando o próximo ponto do intervalo\n",
    "        x += h\n",
    "        #somatório do ponto atual no valor da função\n",
    "        integral += f(x)\n",
    "    \n",
    "    #retorno a integral calculada vezes a largura do intervalo\n",
    "    return integral*h"
   ]
  },
  {
   "cell_type": "code",
   "execution_count": 22,
   "metadata": {},
   "outputs": [
    {
     "name": "stdout",
     "output_type": "stream",
     "text": [
      "1518.001\n"
     ]
    }
   ],
   "source": [
    "#intervalo de 1 a 7, por isso a = 1 e b = 7\n",
    "#n escolhido como 1000 para retornar um resultado mais preciso\n",
    "answer = regra_trapezio(1, 7, 1000)\n",
    "print(round(answer, 3))"
   ]
  }
 ],
 "metadata": {
  "kernelspec": {
   "display_name": "base",
   "language": "python",
   "name": "python3"
  },
  "language_info": {
   "codemirror_mode": {
    "name": "ipython",
    "version": 3
   },
   "file_extension": ".py",
   "mimetype": "text/x-python",
   "name": "python",
   "nbconvert_exporter": "python",
   "pygments_lexer": "ipython3",
   "version": "3.10.9"
  },
  "orig_nbformat": 4
 },
 "nbformat": 4,
 "nbformat_minor": 2
}
